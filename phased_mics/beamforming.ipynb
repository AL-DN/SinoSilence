{
 "cells": [
  {
   "cell_type": "code",
   "execution_count": 1,
   "metadata": {},
   "outputs": [],
   "source": [
    "# Author: Alden Sahi\n",
    "# Project Name: 2D - 2 Element Beaforming\n",
    "# Project Description: \n",
    "    # Input: Audio Stream from Two Directional Microphones\n",
    "    # Output: A chart that shows the summation of the waves \n",
    "            # with different phase shifts applied to sound recieved at the first mic"
   ]
  },
  {
   "cell_type": "code",
   "execution_count": null,
   "metadata": {},
   "outputs": [],
   "source": [
    "import pyaudio "
   ]
  },
  {
   "cell_type": "code",
   "execution_count": 1,
   "metadata": {},
   "outputs": [
    {
     "ename": "NameError",
     "evalue": "name 'pyaudio' is not defined",
     "output_type": "error",
     "traceback": [
      "\u001b[31m---------------------------------------------------------------------------\u001b[39m",
      "\u001b[31mNameError\u001b[39m                                 Traceback (most recent call last)",
      "\u001b[36mCell\u001b[39m\u001b[36m \u001b[39m\u001b[32mIn[1]\u001b[39m\u001b[32m, line 3\u001b[39m\n\u001b[32m      1\u001b[39m \u001b[38;5;66;03m# lists all audio devices\u001b[39;00m\n\u001b[32m----> \u001b[39m\u001b[32m3\u001b[39m p = \u001b[43mpyaudio\u001b[49m.PyAudio()\n\u001b[32m      4\u001b[39m \u001b[38;5;28mprint\u001b[39m(\u001b[33m\"\u001b[39m\u001b[33mAvailable audio devices:\u001b[39m\u001b[38;5;130;01m\\n\u001b[39;00m\u001b[33m\"\u001b[39m)\n\u001b[32m      5\u001b[39m \u001b[38;5;28;01mfor\u001b[39;00m i \u001b[38;5;129;01min\u001b[39;00m \u001b[38;5;28mrange\u001b[39m(p.get_device_count()):\n",
      "\u001b[31mNameError\u001b[39m: name 'pyaudio' is not defined"
     ]
    }
   ],
   "source": [
    "# lists all audio devices\n",
    "\n",
    "p = pyaudio.PyAudio()\n",
    "print(\"Available audio devices:\\n\")\n",
    "for i in range(p.get_device_count()):\n",
    "    info = p.get_device_info_by_index(i)\n",
    "    print(f\"Index {i}: {info['name']}\")\n",
    "    print(f\"  Max Input Channels: {info['maxInputChannels']}\")\n",
    "    print(f\"  Max Output Channels: {info['maxOutputChannels']}\")\n",
    "    print(f\"  Default Sample Rate: {info['defaultSampleRate']}\\n\")\n",
    "\n",
    "p.terminate()"
   ]
  }
 ],
 "metadata": {
  "kernelspec": {
   "display_name": "Python 3",
   "language": "python",
   "name": "python3"
  },
  "language_info": {
   "codemirror_mode": {
    "name": "ipython",
    "version": 3
   },
   "file_extension": ".py",
   "mimetype": "text/x-python",
   "name": "python",
   "nbconvert_exporter": "python",
   "pygments_lexer": "ipython3",
   "version": "3.13.2"
  }
 },
 "nbformat": 4,
 "nbformat_minor": 2
}
